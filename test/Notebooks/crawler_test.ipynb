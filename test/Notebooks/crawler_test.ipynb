{
 "cells": [
  {
   "cell_type": "code",
   "execution_count": 1,
   "metadata": {},
   "outputs": [],
   "source": [
    "import requests\n",
    "from bs4 import BeautifulSoup\n",
    "import json\n",
    "import asyncio\n",
    "import aiohttp\n",
    "\n",
    "################################\n",
    "# 이미지 크롤링 \n",
    "\n",
    "def get_image_list():\n",
    "\n",
    "    url = \"https://m.site.naver.com/18ns6\"\n",
    "    res = requests.get(url)\n",
    "    soup = BeautifulSoup(res.content, \"lxml\")\n",
    "    script_tag = soup.find('script', {'id': '__NEXT_DATA__'})\n",
    "    json_data = json.loads(script_tag.contents[0])\n",
    "\n",
    "    img_web_urls = [attachment.get('imgWebUrl') for d in json_data['props']['pageProps']['qrDetail']['sessions'] if 'attachments' in d for attachment in d.get('attachments', [])]\n",
    "\n",
    "    # 결과 출력\n",
    "    img_urls = []\n",
    "    for img_web_url in img_web_urls:\n",
    "        img_urls.append(img_web_url)\n",
    "\n",
    "    # 첫 번째 이미지 URL을 제외한 고유한 이미지 URL을 출력\n",
    "    img_list = list(set(img_urls))[1:]\n",
    "\n",
    "    return img_list\n",
    "    \n",
    "    "
   ]
  },
  {
   "cell_type": "code",
   "execution_count": 3,
   "metadata": {},
   "outputs": [
    {
     "data": {
      "text/plain": [
       "['https://qrcodethumb-phinf.pstatic.net//20241007_184/1728233510335oQBAE_PNG/%BD%BA%C6%BC%BA%EC%B9%E9.png',\n",
       " 'https://qrcodethumb-phinf.pstatic.net/20230504_198/1683204990963tCeek_PNG/NANKAM_%EB%8B%89%EB%84%B4x.png',\n",
       " 'https://qrcodethumb-phinf.pstatic.net/20230504_174/1683204991769Hp9QD_JPEG/%EC%8B%B8%EB%A3%A8_%EB%85%B8%EC%9D%84.jpg',\n",
       " 'https://qrcodethumb-phinf.pstatic.net/20230504_217/1683204992648HdCDH_JPEG/ha4444.jpg',\n",
       " 'https://qrcodethumb-phinf.pstatic.net/20230504_112/1683204991595v7mNA_PNG/%EC%82%AC%EC%BF%A0%EC%97%90_%EC%88%98%EC%A0%95%EB%B3%B8(%EC%B5%9C%EC%A2%85).png',\n",
       " 'https://qrcodethumb-phinf.pstatic.net/20230504_175/1683204991270Fjv51_PNG/%EC%82%90%EC%9A%94-%EB%A7%88%EB%8F%84_ai-painter.png',\n",
       " 'https://qrcodethumb-phinf.pstatic.net//20240213_253/1707763035002FH3cM_PNG/%C5%E4%C7%C7%B3%D3%B6%F3%B6%BC.png',\n",
       " 'https://qrcodethumb-phinf.pstatic.net/20230504_82/16832049920215qGVn_PNG/%EC%95%BC%EC%9E%98%EC%A1%B0%EC%95%84%EC%9A%94(arca).png',\n",
       " 'https://qrcodethumb-phinf.pstatic.net/20230504_65/1683204992257X4Dpk_PNG/%EC%9E%A1%EC%B4%88%EC%96%91_%EB%B0%98%EC%8B%A0_%ED%9D%B0%EB%B0%B0%EA%B2%BD.png',\n",
       " 'https://qrcodethumb-phinf.pstatic.net/20230504_28/1683204992476mUfvX_PNG/%EC%9E%A1%EC%B4%88%EC%96%91_%EC%A0%84%EC%8B%A0_%ED%9D%B0%EB%B0%B0%EA%B2%BD.png',\n",
       " 'https://qrcodethumb-phinf.pstatic.net/20230730_284/1690725704698RDYWJ_PNG/KakaoTalk_20230730_160412885.png',\n",
       " None]"
      ]
     },
     "execution_count": 3,
     "metadata": {},
     "output_type": "execute_result"
    }
   ],
   "source": [
    "get_image_list()"
   ]
  },
  {
   "cell_type": "code",
   "execution_count": null,
   "metadata": {},
   "outputs": [],
   "source": []
  }
 ],
 "metadata": {
  "kernelspec": {
   "display_name": "Python 3",
   "language": "python",
   "name": "python3"
  },
  "language_info": {
   "codemirror_mode": {
    "name": "ipython",
    "version": 3
   },
   "file_extension": ".py",
   "mimetype": "text/x-python",
   "name": "python",
   "nbconvert_exporter": "python",
   "pygments_lexer": "ipython3",
   "version": "3.10.11"
  }
 },
 "nbformat": 4,
 "nbformat_minor": 2
}
