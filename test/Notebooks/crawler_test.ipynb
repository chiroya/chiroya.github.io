{
 "cells": [
  {
   "cell_type": "code",
   "execution_count": 3,
   "metadata": {},
   "outputs": [],
   "source": [
    "import requests\n",
    "from bs4 import BeautifulSoup\n",
    "import json\n",
    "import asyncio\n",
    "import aiohttp\n",
    "\n",
    "################################\n",
    "# 이미지 크롤링 \n",
    "\n",
    "def get_image_list():\n",
    "\n",
    "    url = \"https://m.site.naver.com/18ns6\"\n",
    "    res = requests.get(url)\n",
    "    soup = BeautifulSoup(res.content, \"lxml\")\n",
    "    script_tag = soup.find('script', {'id': '__NEXT_DATA__'})\n",
    "    json_data = json.loads(script_tag.contents[0])\n",
    "\n",
    "    img_web_urls = [attachment.get('imgWebUrl') for d in json_data['props']['pageProps']['qrDetail']['sessions'] if 'attachments' in d for attachment in d.get('attachments', [])]\n",
    "\n",
    "    # 결과 출력\n",
    "    img_urls = []\n",
    "    for img_web_url in img_web_urls:\n",
    "        img_urls.append(img_web_url)\n",
    "\n",
    "    # 첫 번째 이미지 URL을 제외한 고유한 이미지 URL을 출력\n",
    "    img_list = list(set(img_urls) - {None})[0:]\n",
    "\n",
    "    return img_list\n",
    "    \n",
    "    "
   ]
  },
  {
   "cell_type": "code",
   "execution_count": 4,
   "metadata": {},
   "outputs": [
    {
     "data": {
      "text/plain": [
       "['https://qrcodethumb-phinf.pstatic.net//20241007_46/1728240478011djFBK_PNG/011.png',\n",
       " 'https://qrcodethumb-phinf.pstatic.net//20241007_14/1728240478060mQeJ3_JPEG/002.jpg',\n",
       " 'https://qrcodethumb-phinf.pstatic.net//20241007_155/1728240478074zGdph_PNG/001.png',\n",
       " 'https://qrcodethumb-phinf.pstatic.net//20241007_15/1728240478055YrWBw_PNG/012.png',\n",
       " 'https://qrcodethumb-phinf.pstatic.net//20241007_221/1728240477970aWmVq_PNG/006.png',\n",
       " 'https://qrcodethumb-phinf.pstatic.net//20241007_262/1728240478045UsPGJ_PNG/005.png',\n",
       " 'https://qrcodethumb-phinf.pstatic.net//20241007_240/1728240477972FyiLG_PNG/004.png',\n",
       " 'https://qrcodethumb-phinf.pstatic.net//20241007_176/1728240477995tRhcw_PNG/010.png',\n",
       " 'https://qrcodethumb-phinf.pstatic.net//20241007_230/1728240478068j098G_PNG/008.png',\n",
       " 'https://qrcodethumb-phinf.pstatic.net//20241007_297/1728240478080Wz4Gm_JPEG/003.jpg',\n",
       " 'https://qrcodethumb-phinf.pstatic.net//20241007_100/1728240478010xTgNN_PNG/009.png',\n",
       " 'https://qrcodethumb-phinf.pstatic.net//20241007_224/17282404779570lF8X_JPEG/007.jpg',\n",
       " None]"
      ]
     },
     "execution_count": 4,
     "metadata": {},
     "output_type": "execute_result"
    }
   ],
   "source": [
    "get_image_list()"
   ]
  },
  {
   "cell_type": "code",
   "execution_count": null,
   "metadata": {},
   "outputs": [],
   "source": []
  }
 ],
 "metadata": {
  "kernelspec": {
   "display_name": "Python 3",
   "language": "python",
   "name": "python3"
  },
  "language_info": {
   "codemirror_mode": {
    "name": "ipython",
    "version": 3
   },
   "file_extension": ".py",
   "mimetype": "text/x-python",
   "name": "python",
   "nbconvert_exporter": "python",
   "pygments_lexer": "ipython3",
   "version": "3.10.11"
  }
 },
 "nbformat": 4,
 "nbformat_minor": 2
}
